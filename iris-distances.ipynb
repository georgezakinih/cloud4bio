{
 "cells": [
  {
   "cell_type": "code",
   "execution_count": 1,
   "metadata": {},
   "outputs": [],
   "source": [
    "import pandas as pd\n",
    "import numpy as np"
   ]
  },
  {
   "cell_type": "code",
   "execution_count": 30,
   "metadata": {},
   "outputs": [],
   "source": [
    "def on_button_clicked(b):\n",
    "    import io\n",
    "    keys = uploader.value.keys()\n",
    "    #filename = list(uploader.value.keys())[0]\n",
    "    if len(keys) != 0:\n",
    "        filename = list(uploader.value.keys())[0]\n",
    "        contents = io.BytesIO(uploader.value[filename][\"content\"])\n",
    "    elif text.value != \"\":\n",
    "        contents = text.value\n",
    "    else:\n",
    "        print (\"ERROR: Enter a URL or upload a file\")\n",
    "        return\n",
    "    data = pd.read_csv(contents)\n",
    "    data_np = data[['sepal_length', 'sepal_width','petal_length', 'petal_width']].values\n",
    "    from scipy.spatial import distance\n",
    "    distances = distance.cdist(data_np, data_np, 'euclidean')\n",
    "    print(\"Average = {0}\".format(np.average(distances) * (1 - 1 / distances.shape[0])))"
   ]
  },
  {
   "cell_type": "code",
   "execution_count": 32,
   "metadata": {},
   "outputs": [
    {
     "data": {
      "application/vnd.jupyter.widget-view+json": {
       "model_id": "5f45634146c844b5854d1eb09dfc6fa1",
       "version_major": 2,
       "version_minor": 0
      },
      "text/plain": [
       "Text(value='', description='URL')"
      ]
     },
     "metadata": {},
     "output_type": "display_data"
    },
    {
     "data": {
      "application/vnd.jupyter.widget-view+json": {
       "model_id": "01cc8d1b88774552b8a8f12245aea052",
       "version_major": 2,
       "version_minor": 0
      },
      "text/plain": [
       "FileUpload(value={}, description='Upload')"
      ]
     },
     "metadata": {},
     "output_type": "display_data"
    },
    {
     "data": {
      "application/vnd.jupyter.widget-view+json": {
       "model_id": "fbfb06e76df041a19da2445f7b63be8b",
       "version_major": 2,
       "version_minor": 0
      },
      "text/plain": [
       "Button(description='Calculate mean distances', style=ButtonStyle())"
      ]
     },
     "metadata": {},
     "output_type": "display_data"
    },
    {
     "name": "stdout",
     "output_type": "stream",
     "text": [
      "Average = 2.5099653458310827\n"
     ]
    }
   ],
   "source": [
    "import ipywidgets \n",
    "from ipywidgets import *\n",
    "from IPython.display import display\n",
    "\n",
    "NUMBER_OF_PINGS = 4\n",
    " \n",
    "# displaying the text widget\n",
    "text = widgets.Text(description=\"URL\", width=200)\n",
    "display(text)\n",
    "uploader = widgets.FileUpload(multiple=False)\n",
    "display(uploader)\n",
    "button = widgets.Button(description=\"Calculate mean distances\")\n",
    "display(button)\n",
    "\n",
    "button.on_click(on_button_clicked)\n",
    "#ipywidgets.link((uploader, \"value\"), (text, \"value\"))"
   ]
  },
  {
   "cell_type": "code",
   "execution_count": null,
   "metadata": {},
   "outputs": [],
   "source": []
  }
 ],
 "metadata": {
  "kernelspec": {
   "display_name": "Python 3",
   "language": "python",
   "name": "python3"
  },
  "language_info": {
   "codemirror_mode": {
    "name": "ipython",
    "version": 3
   },
   "file_extension": ".py",
   "mimetype": "text/x-python",
   "name": "python",
   "nbconvert_exporter": "python",
   "pygments_lexer": "ipython3",
   "version": "3.6.10"
  }
 },
 "nbformat": 4,
 "nbformat_minor": 2
}
